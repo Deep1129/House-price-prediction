{
  "nbformat": 4,
  "nbformat_minor": 0,
  "metadata": {
    "colab": {
      "name": "LA_Assignment3.ipynb",
      "provenance": [],
      "collapsed_sections": [],
      "toc_visible": true
    },
    "kernelspec": {
      "name": "python3",
      "display_name": "Python 3"
    }
  },
  "cells": [
    {
      "cell_type": "code",
      "metadata": {
        "id": "RtIfXmeqXPD5"
      },
      "source": [
        "import numpy as np\r\n",
        "import matplotlib.pyplot as plt\r\n",
        "import pandas as pd\r\n",
        "import seaborn as sns"
      ],
      "execution_count": null,
      "outputs": []
    },
    {
      "cell_type": "code",
      "metadata": {
        "id": "lv8vkpvvX1Qz"
      },
      "source": [
        "read_file = pd.read_csv (r'trdata.txt', header = None)\r\n",
        "read_file.columns = ['SR','0','1','2','3','4','5','6','7','8','9','10','11','12','N']\r\n",
        "read_file.to_csv (r'Data.csv',index = None)"
      ],
      "execution_count": null,
      "outputs": []
    },
    {
      "cell_type": "code",
      "metadata": {
        "colab": {
          "base_uri": "https://localhost:8080/",
          "height": 80
        },
        "id": "TsDbrj7whoXR",
        "outputId": "b84a7a95-da5c-4a1e-f049-ca6089e3bfd5"
      },
      "source": [
        "# read = pd.read_csv(r'test1.txt',header =None)\r\n",
        "# read.to_csv (r'test1.csv', index=None)\r\n",
        "# T = pd.read_csv('test1.csv')\r\n",
        "# T"
      ],
      "execution_count": null,
      "outputs": [
        {
          "output_type": "execute_result",
          "data": {
            "text/html": [
              "<div>\n",
              "<style scoped>\n",
              "    .dataframe tbody tr th:only-of-type {\n",
              "        vertical-align: middle;\n",
              "    }\n",
              "\n",
              "    .dataframe tbody tr th {\n",
              "        vertical-align: top;\n",
              "    }\n",
              "\n",
              "    .dataframe thead th {\n",
              "        text-align: right;\n",
              "    }\n",
              "</style>\n",
              "<table border=\"1\" class=\"dataframe\">\n",
              "  <thead>\n",
              "    <tr style=\"text-align: right;\">\n",
              "      <th></th>\n",
              "      <th>0</th>\n",
              "      <th>1</th>\n",
              "      <th>2</th>\n",
              "      <th>3</th>\n",
              "      <th>4</th>\n",
              "      <th>5</th>\n",
              "      <th>6</th>\n",
              "      <th>7</th>\n",
              "      <th>8</th>\n",
              "      <th>9</th>\n",
              "      <th>10</th>\n",
              "      <th>11</th>\n",
              "      <th>12</th>\n",
              "    </tr>\n",
              "  </thead>\n",
              "  <tbody>\n",
              "    <tr>\n",
              "      <th>0</th>\n",
              "      <td>0.006</td>\n",
              "      <td>18</td>\n",
              "      <td>2.3</td>\n",
              "      <td>0</td>\n",
              "      <td>0.5</td>\n",
              "      <td>6.5</td>\n",
              "      <td>65.2</td>\n",
              "      <td>4.09</td>\n",
              "      <td>1</td>\n",
              "      <td>296</td>\n",
              "      <td>15.3</td>\n",
              "      <td>296.9</td>\n",
              "      <td>4.9</td>\n",
              "    </tr>\n",
              "  </tbody>\n",
              "</table>\n",
              "</div>"
            ],
            "text/plain": [
              "       0   1    2  3    4    5     6     7  8    9    10     11   12\n",
              "0  0.006  18  2.3  0  0.5  6.5  65.2  4.09  1  296  15.3  296.9  4.9"
            ]
          },
          "metadata": {
            "tags": []
          },
          "execution_count": 145
        }
      ]
    },
    {
      "cell_type": "markdown",
      "metadata": {
        "id": "hPN8vDr1eSZI"
      },
      "source": [
        "# New Section"
      ]
    },
    {
      "cell_type": "code",
      "metadata": {
        "id": "ag5M0YpFZ2UD",
        "colab": {
          "base_uri": "https://localhost:8080/",
          "height": 419
        },
        "outputId": "be3d8150-63e1-429f-bd2c-56be9d8212e7"
      },
      "source": [
        "D = pd.read_csv('Data.csv')\r\n",
        "D"
      ],
      "execution_count": null,
      "outputs": [
        {
          "output_type": "execute_result",
          "data": {
            "text/html": [
              "<div>\n",
              "<style scoped>\n",
              "    .dataframe tbody tr th:only-of-type {\n",
              "        vertical-align: middle;\n",
              "    }\n",
              "\n",
              "    .dataframe tbody tr th {\n",
              "        vertical-align: top;\n",
              "    }\n",
              "\n",
              "    .dataframe thead th {\n",
              "        text-align: right;\n",
              "    }\n",
              "</style>\n",
              "<table border=\"1\" class=\"dataframe\">\n",
              "  <thead>\n",
              "    <tr style=\"text-align: right;\">\n",
              "      <th></th>\n",
              "      <th>SR</th>\n",
              "      <th>0</th>\n",
              "      <th>1</th>\n",
              "      <th>2</th>\n",
              "      <th>3</th>\n",
              "      <th>4</th>\n",
              "      <th>5</th>\n",
              "      <th>6</th>\n",
              "      <th>7</th>\n",
              "      <th>8</th>\n",
              "      <th>9</th>\n",
              "      <th>10</th>\n",
              "      <th>11</th>\n",
              "      <th>12</th>\n",
              "      <th>N</th>\n",
              "    </tr>\n",
              "  </thead>\n",
              "  <tbody>\n",
              "    <tr>\n",
              "      <th>0</th>\n",
              "      <td>1</td>\n",
              "      <td>0.00632</td>\n",
              "      <td>18.0</td>\n",
              "      <td>2.31</td>\n",
              "      <td>0</td>\n",
              "      <td>0.538</td>\n",
              "      <td>6.575</td>\n",
              "      <td>65.2</td>\n",
              "      <td>4.0900</td>\n",
              "      <td>1</td>\n",
              "      <td>296</td>\n",
              "      <td>15.3</td>\n",
              "      <td>396.90</td>\n",
              "      <td>4.98</td>\n",
              "      <td>24.0</td>\n",
              "    </tr>\n",
              "    <tr>\n",
              "      <th>1</th>\n",
              "      <td>2</td>\n",
              "      <td>0.02731</td>\n",
              "      <td>0.0</td>\n",
              "      <td>7.07</td>\n",
              "      <td>0</td>\n",
              "      <td>0.469</td>\n",
              "      <td>6.421</td>\n",
              "      <td>78.9</td>\n",
              "      <td>4.9671</td>\n",
              "      <td>2</td>\n",
              "      <td>242</td>\n",
              "      <td>17.8</td>\n",
              "      <td>396.90</td>\n",
              "      <td>9.14</td>\n",
              "      <td>21.6</td>\n",
              "    </tr>\n",
              "    <tr>\n",
              "      <th>2</th>\n",
              "      <td>3</td>\n",
              "      <td>0.02729</td>\n",
              "      <td>0.0</td>\n",
              "      <td>7.07</td>\n",
              "      <td>0</td>\n",
              "      <td>0.469</td>\n",
              "      <td>7.185</td>\n",
              "      <td>61.1</td>\n",
              "      <td>4.9671</td>\n",
              "      <td>2</td>\n",
              "      <td>242</td>\n",
              "      <td>17.8</td>\n",
              "      <td>392.83</td>\n",
              "      <td>4.03</td>\n",
              "      <td>34.7</td>\n",
              "    </tr>\n",
              "    <tr>\n",
              "      <th>3</th>\n",
              "      <td>4</td>\n",
              "      <td>0.03237</td>\n",
              "      <td>0.0</td>\n",
              "      <td>2.18</td>\n",
              "      <td>0</td>\n",
              "      <td>0.458</td>\n",
              "      <td>6.998</td>\n",
              "      <td>45.8</td>\n",
              "      <td>6.0622</td>\n",
              "      <td>3</td>\n",
              "      <td>222</td>\n",
              "      <td>18.7</td>\n",
              "      <td>394.63</td>\n",
              "      <td>2.94</td>\n",
              "      <td>33.4</td>\n",
              "    </tr>\n",
              "    <tr>\n",
              "      <th>4</th>\n",
              "      <td>5</td>\n",
              "      <td>0.06905</td>\n",
              "      <td>0.0</td>\n",
              "      <td>2.18</td>\n",
              "      <td>0</td>\n",
              "      <td>0.458</td>\n",
              "      <td>7.147</td>\n",
              "      <td>54.2</td>\n",
              "      <td>6.0622</td>\n",
              "      <td>3</td>\n",
              "      <td>222</td>\n",
              "      <td>18.7</td>\n",
              "      <td>396.90</td>\n",
              "      <td>5.33</td>\n",
              "      <td>36.2</td>\n",
              "    </tr>\n",
              "    <tr>\n",
              "      <th>...</th>\n",
              "      <td>...</td>\n",
              "      <td>...</td>\n",
              "      <td>...</td>\n",
              "      <td>...</td>\n",
              "      <td>...</td>\n",
              "      <td>...</td>\n",
              "      <td>...</td>\n",
              "      <td>...</td>\n",
              "      <td>...</td>\n",
              "      <td>...</td>\n",
              "      <td>...</td>\n",
              "      <td>...</td>\n",
              "      <td>...</td>\n",
              "      <td>...</td>\n",
              "      <td>...</td>\n",
              "    </tr>\n",
              "    <tr>\n",
              "      <th>476</th>\n",
              "      <td>477</td>\n",
              "      <td>4.87141</td>\n",
              "      <td>0.0</td>\n",
              "      <td>18.10</td>\n",
              "      <td>0</td>\n",
              "      <td>0.614</td>\n",
              "      <td>6.484</td>\n",
              "      <td>93.6</td>\n",
              "      <td>2.3053</td>\n",
              "      <td>24</td>\n",
              "      <td>666</td>\n",
              "      <td>20.2</td>\n",
              "      <td>396.21</td>\n",
              "      <td>18.68</td>\n",
              "      <td>16.7</td>\n",
              "    </tr>\n",
              "    <tr>\n",
              "      <th>477</th>\n",
              "      <td>478</td>\n",
              "      <td>15.02340</td>\n",
              "      <td>0.0</td>\n",
              "      <td>18.10</td>\n",
              "      <td>0</td>\n",
              "      <td>0.614</td>\n",
              "      <td>5.304</td>\n",
              "      <td>97.3</td>\n",
              "      <td>2.1007</td>\n",
              "      <td>24</td>\n",
              "      <td>666</td>\n",
              "      <td>20.2</td>\n",
              "      <td>349.48</td>\n",
              "      <td>24.91</td>\n",
              "      <td>12.0</td>\n",
              "    </tr>\n",
              "    <tr>\n",
              "      <th>478</th>\n",
              "      <td>479</td>\n",
              "      <td>10.23300</td>\n",
              "      <td>0.0</td>\n",
              "      <td>18.10</td>\n",
              "      <td>0</td>\n",
              "      <td>0.614</td>\n",
              "      <td>6.185</td>\n",
              "      <td>96.7</td>\n",
              "      <td>2.1705</td>\n",
              "      <td>24</td>\n",
              "      <td>666</td>\n",
              "      <td>20.2</td>\n",
              "      <td>379.70</td>\n",
              "      <td>18.03</td>\n",
              "      <td>14.6</td>\n",
              "    </tr>\n",
              "    <tr>\n",
              "      <th>479</th>\n",
              "      <td>480</td>\n",
              "      <td>14.33370</td>\n",
              "      <td>0.0</td>\n",
              "      <td>18.10</td>\n",
              "      <td>0</td>\n",
              "      <td>0.614</td>\n",
              "      <td>6.229</td>\n",
              "      <td>88.0</td>\n",
              "      <td>1.9512</td>\n",
              "      <td>24</td>\n",
              "      <td>666</td>\n",
              "      <td>20.2</td>\n",
              "      <td>383.32</td>\n",
              "      <td>13.11</td>\n",
              "      <td>21.4</td>\n",
              "    </tr>\n",
              "    <tr>\n",
              "      <th>480</th>\n",
              "      <td>481</td>\n",
              "      <td>5.82401</td>\n",
              "      <td>0.0</td>\n",
              "      <td>18.10</td>\n",
              "      <td>0</td>\n",
              "      <td>0.532</td>\n",
              "      <td>6.242</td>\n",
              "      <td>64.7</td>\n",
              "      <td>3.4242</td>\n",
              "      <td>24</td>\n",
              "      <td>666</td>\n",
              "      <td>20.2</td>\n",
              "      <td>396.90</td>\n",
              "      <td>10.74</td>\n",
              "      <td>23.0</td>\n",
              "    </tr>\n",
              "  </tbody>\n",
              "</table>\n",
              "<p>481 rows × 15 columns</p>\n",
              "</div>"
            ],
            "text/plain": [
              "      SR         0     1      2  3      4  ...   8    9    10      11     12     N\n",
              "0      1   0.00632  18.0   2.31  0  0.538  ...   1  296  15.3  396.90   4.98  24.0\n",
              "1      2   0.02731   0.0   7.07  0  0.469  ...   2  242  17.8  396.90   9.14  21.6\n",
              "2      3   0.02729   0.0   7.07  0  0.469  ...   2  242  17.8  392.83   4.03  34.7\n",
              "3      4   0.03237   0.0   2.18  0  0.458  ...   3  222  18.7  394.63   2.94  33.4\n",
              "4      5   0.06905   0.0   2.18  0  0.458  ...   3  222  18.7  396.90   5.33  36.2\n",
              "..   ...       ...   ...    ... ..    ...  ...  ..  ...   ...     ...    ...   ...\n",
              "476  477   4.87141   0.0  18.10  0  0.614  ...  24  666  20.2  396.21  18.68  16.7\n",
              "477  478  15.02340   0.0  18.10  0  0.614  ...  24  666  20.2  349.48  24.91  12.0\n",
              "478  479  10.23300   0.0  18.10  0  0.614  ...  24  666  20.2  379.70  18.03  14.6\n",
              "479  480  14.33370   0.0  18.10  0  0.614  ...  24  666  20.2  383.32  13.11  21.4\n",
              "480  481   5.82401   0.0  18.10  0  0.532  ...  24  666  20.2  396.90  10.74  23.0\n",
              "\n",
              "[481 rows x 15 columns]"
            ]
          },
          "metadata": {
            "tags": []
          },
          "execution_count": 148
        }
      ]
    },
    {
      "cell_type": "code",
      "metadata": {
        "id": "FaFoRQVWaK7A",
        "colab": {
          "base_uri": "https://localhost:8080/",
          "height": 419
        },
        "outputId": "e3d287fa-0dc8-4889-8229-34b4ad35ec3f"
      },
      "source": [
        "D.drop(D.columns[[0]], axis = 1, inplace = True)\r\n",
        "D \r\n"
      ],
      "execution_count": null,
      "outputs": [
        {
          "output_type": "execute_result",
          "data": {
            "text/html": [
              "<div>\n",
              "<style scoped>\n",
              "    .dataframe tbody tr th:only-of-type {\n",
              "        vertical-align: middle;\n",
              "    }\n",
              "\n",
              "    .dataframe tbody tr th {\n",
              "        vertical-align: top;\n",
              "    }\n",
              "\n",
              "    .dataframe thead th {\n",
              "        text-align: right;\n",
              "    }\n",
              "</style>\n",
              "<table border=\"1\" class=\"dataframe\">\n",
              "  <thead>\n",
              "    <tr style=\"text-align: right;\">\n",
              "      <th></th>\n",
              "      <th>0</th>\n",
              "      <th>1</th>\n",
              "      <th>2</th>\n",
              "      <th>3</th>\n",
              "      <th>4</th>\n",
              "      <th>5</th>\n",
              "      <th>6</th>\n",
              "      <th>7</th>\n",
              "      <th>8</th>\n",
              "      <th>9</th>\n",
              "      <th>10</th>\n",
              "      <th>11</th>\n",
              "      <th>12</th>\n",
              "      <th>N</th>\n",
              "    </tr>\n",
              "  </thead>\n",
              "  <tbody>\n",
              "    <tr>\n",
              "      <th>0</th>\n",
              "      <td>0.00632</td>\n",
              "      <td>18.0</td>\n",
              "      <td>2.31</td>\n",
              "      <td>0</td>\n",
              "      <td>0.538</td>\n",
              "      <td>6.575</td>\n",
              "      <td>65.2</td>\n",
              "      <td>4.0900</td>\n",
              "      <td>1</td>\n",
              "      <td>296</td>\n",
              "      <td>15.3</td>\n",
              "      <td>396.90</td>\n",
              "      <td>4.98</td>\n",
              "      <td>24.0</td>\n",
              "    </tr>\n",
              "    <tr>\n",
              "      <th>1</th>\n",
              "      <td>0.02731</td>\n",
              "      <td>0.0</td>\n",
              "      <td>7.07</td>\n",
              "      <td>0</td>\n",
              "      <td>0.469</td>\n",
              "      <td>6.421</td>\n",
              "      <td>78.9</td>\n",
              "      <td>4.9671</td>\n",
              "      <td>2</td>\n",
              "      <td>242</td>\n",
              "      <td>17.8</td>\n",
              "      <td>396.90</td>\n",
              "      <td>9.14</td>\n",
              "      <td>21.6</td>\n",
              "    </tr>\n",
              "    <tr>\n",
              "      <th>2</th>\n",
              "      <td>0.02729</td>\n",
              "      <td>0.0</td>\n",
              "      <td>7.07</td>\n",
              "      <td>0</td>\n",
              "      <td>0.469</td>\n",
              "      <td>7.185</td>\n",
              "      <td>61.1</td>\n",
              "      <td>4.9671</td>\n",
              "      <td>2</td>\n",
              "      <td>242</td>\n",
              "      <td>17.8</td>\n",
              "      <td>392.83</td>\n",
              "      <td>4.03</td>\n",
              "      <td>34.7</td>\n",
              "    </tr>\n",
              "    <tr>\n",
              "      <th>3</th>\n",
              "      <td>0.03237</td>\n",
              "      <td>0.0</td>\n",
              "      <td>2.18</td>\n",
              "      <td>0</td>\n",
              "      <td>0.458</td>\n",
              "      <td>6.998</td>\n",
              "      <td>45.8</td>\n",
              "      <td>6.0622</td>\n",
              "      <td>3</td>\n",
              "      <td>222</td>\n",
              "      <td>18.7</td>\n",
              "      <td>394.63</td>\n",
              "      <td>2.94</td>\n",
              "      <td>33.4</td>\n",
              "    </tr>\n",
              "    <tr>\n",
              "      <th>4</th>\n",
              "      <td>0.06905</td>\n",
              "      <td>0.0</td>\n",
              "      <td>2.18</td>\n",
              "      <td>0</td>\n",
              "      <td>0.458</td>\n",
              "      <td>7.147</td>\n",
              "      <td>54.2</td>\n",
              "      <td>6.0622</td>\n",
              "      <td>3</td>\n",
              "      <td>222</td>\n",
              "      <td>18.7</td>\n",
              "      <td>396.90</td>\n",
              "      <td>5.33</td>\n",
              "      <td>36.2</td>\n",
              "    </tr>\n",
              "    <tr>\n",
              "      <th>...</th>\n",
              "      <td>...</td>\n",
              "      <td>...</td>\n",
              "      <td>...</td>\n",
              "      <td>...</td>\n",
              "      <td>...</td>\n",
              "      <td>...</td>\n",
              "      <td>...</td>\n",
              "      <td>...</td>\n",
              "      <td>...</td>\n",
              "      <td>...</td>\n",
              "      <td>...</td>\n",
              "      <td>...</td>\n",
              "      <td>...</td>\n",
              "      <td>...</td>\n",
              "    </tr>\n",
              "    <tr>\n",
              "      <th>476</th>\n",
              "      <td>4.87141</td>\n",
              "      <td>0.0</td>\n",
              "      <td>18.10</td>\n",
              "      <td>0</td>\n",
              "      <td>0.614</td>\n",
              "      <td>6.484</td>\n",
              "      <td>93.6</td>\n",
              "      <td>2.3053</td>\n",
              "      <td>24</td>\n",
              "      <td>666</td>\n",
              "      <td>20.2</td>\n",
              "      <td>396.21</td>\n",
              "      <td>18.68</td>\n",
              "      <td>16.7</td>\n",
              "    </tr>\n",
              "    <tr>\n",
              "      <th>477</th>\n",
              "      <td>15.02340</td>\n",
              "      <td>0.0</td>\n",
              "      <td>18.10</td>\n",
              "      <td>0</td>\n",
              "      <td>0.614</td>\n",
              "      <td>5.304</td>\n",
              "      <td>97.3</td>\n",
              "      <td>2.1007</td>\n",
              "      <td>24</td>\n",
              "      <td>666</td>\n",
              "      <td>20.2</td>\n",
              "      <td>349.48</td>\n",
              "      <td>24.91</td>\n",
              "      <td>12.0</td>\n",
              "    </tr>\n",
              "    <tr>\n",
              "      <th>478</th>\n",
              "      <td>10.23300</td>\n",
              "      <td>0.0</td>\n",
              "      <td>18.10</td>\n",
              "      <td>0</td>\n",
              "      <td>0.614</td>\n",
              "      <td>6.185</td>\n",
              "      <td>96.7</td>\n",
              "      <td>2.1705</td>\n",
              "      <td>24</td>\n",
              "      <td>666</td>\n",
              "      <td>20.2</td>\n",
              "      <td>379.70</td>\n",
              "      <td>18.03</td>\n",
              "      <td>14.6</td>\n",
              "    </tr>\n",
              "    <tr>\n",
              "      <th>479</th>\n",
              "      <td>14.33370</td>\n",
              "      <td>0.0</td>\n",
              "      <td>18.10</td>\n",
              "      <td>0</td>\n",
              "      <td>0.614</td>\n",
              "      <td>6.229</td>\n",
              "      <td>88.0</td>\n",
              "      <td>1.9512</td>\n",
              "      <td>24</td>\n",
              "      <td>666</td>\n",
              "      <td>20.2</td>\n",
              "      <td>383.32</td>\n",
              "      <td>13.11</td>\n",
              "      <td>21.4</td>\n",
              "    </tr>\n",
              "    <tr>\n",
              "      <th>480</th>\n",
              "      <td>5.82401</td>\n",
              "      <td>0.0</td>\n",
              "      <td>18.10</td>\n",
              "      <td>0</td>\n",
              "      <td>0.532</td>\n",
              "      <td>6.242</td>\n",
              "      <td>64.7</td>\n",
              "      <td>3.4242</td>\n",
              "      <td>24</td>\n",
              "      <td>666</td>\n",
              "      <td>20.2</td>\n",
              "      <td>396.90</td>\n",
              "      <td>10.74</td>\n",
              "      <td>23.0</td>\n",
              "    </tr>\n",
              "  </tbody>\n",
              "</table>\n",
              "<p>481 rows × 14 columns</p>\n",
              "</div>"
            ],
            "text/plain": [
              "            0     1      2  3      4      5  ...   8    9    10      11     12     N\n",
              "0     0.00632  18.0   2.31  0  0.538  6.575  ...   1  296  15.3  396.90   4.98  24.0\n",
              "1     0.02731   0.0   7.07  0  0.469  6.421  ...   2  242  17.8  396.90   9.14  21.6\n",
              "2     0.02729   0.0   7.07  0  0.469  7.185  ...   2  242  17.8  392.83   4.03  34.7\n",
              "3     0.03237   0.0   2.18  0  0.458  6.998  ...   3  222  18.7  394.63   2.94  33.4\n",
              "4     0.06905   0.0   2.18  0  0.458  7.147  ...   3  222  18.7  396.90   5.33  36.2\n",
              "..        ...   ...    ... ..    ...    ...  ...  ..  ...   ...     ...    ...   ...\n",
              "476   4.87141   0.0  18.10  0  0.614  6.484  ...  24  666  20.2  396.21  18.68  16.7\n",
              "477  15.02340   0.0  18.10  0  0.614  5.304  ...  24  666  20.2  349.48  24.91  12.0\n",
              "478  10.23300   0.0  18.10  0  0.614  6.185  ...  24  666  20.2  379.70  18.03  14.6\n",
              "479  14.33370   0.0  18.10  0  0.614  6.229  ...  24  666  20.2  383.32  13.11  21.4\n",
              "480   5.82401   0.0  18.10  0  0.532  6.242  ...  24  666  20.2  396.90  10.74  23.0\n",
              "\n",
              "[481 rows x 14 columns]"
            ]
          },
          "metadata": {
            "tags": []
          },
          "execution_count": 28
        }
      ]
    },
    {
      "cell_type": "code",
      "metadata": {
        "id": "w0bEhd6_ahcA"
      },
      "source": [
        "X = D.drop('N',axis =1)\r\n",
        "y= D['N']"
      ],
      "execution_count": null,
      "outputs": []
    },
    {
      "cell_type": "markdown",
      "metadata": {
        "id": "d_7rV4KP62cC"
      },
      "source": [
        "# Scaling the data"
      ]
    },
    {
      "cell_type": "code",
      "metadata": {
        "id": "ob8SfXnh6q9d"
      },
      "source": [
        "from sklearn.preprocessing import StandardScaler"
      ],
      "execution_count": null,
      "outputs": []
    },
    {
      "cell_type": "code",
      "metadata": {
        "id": "RKavnLnI697E"
      },
      "source": [
        "scaler = StandardScaler()"
      ],
      "execution_count": null,
      "outputs": []
    },
    {
      "cell_type": "code",
      "metadata": {
        "id": "ZkKhBAnA7B9K"
      },
      "source": [
        "data_scaled = scaler.fit_transform(X)"
      ],
      "execution_count": null,
      "outputs": []
    },
    {
      "cell_type": "code",
      "metadata": {
        "colab": {
          "base_uri": "https://localhost:8080/",
          "height": 204
        },
        "id": "_toit_DN7dvG",
        "outputId": "d954aff7-3e70-4436-d2ea-aa92658cf85d"
      },
      "source": [
        "dataset = pd.DataFrame(data_scaled)\r\n",
        "dataset.head()"
      ],
      "execution_count": null,
      "outputs": [
        {
          "output_type": "execute_result",
          "data": {
            "text/html": [
              "<div>\n",
              "<style scoped>\n",
              "    .dataframe tbody tr th:only-of-type {\n",
              "        vertical-align: middle;\n",
              "    }\n",
              "\n",
              "    .dataframe tbody tr th {\n",
              "        vertical-align: top;\n",
              "    }\n",
              "\n",
              "    .dataframe thead th {\n",
              "        text-align: right;\n",
              "    }\n",
              "</style>\n",
              "<table border=\"1\" class=\"dataframe\">\n",
              "  <thead>\n",
              "    <tr style=\"text-align: right;\">\n",
              "      <th></th>\n",
              "      <th>0</th>\n",
              "      <th>1</th>\n",
              "      <th>2</th>\n",
              "      <th>3</th>\n",
              "      <th>4</th>\n",
              "      <th>5</th>\n",
              "      <th>6</th>\n",
              "      <th>7</th>\n",
              "      <th>8</th>\n",
              "      <th>9</th>\n",
              "      <th>10</th>\n",
              "      <th>11</th>\n",
              "      <th>12</th>\n",
              "    </tr>\n",
              "  </thead>\n",
              "  <tbody>\n",
              "    <tr>\n",
              "      <th>0</th>\n",
              "      <td>-0.423981</td>\n",
              "      <td>0.254568</td>\n",
              "      <td>-1.267055</td>\n",
              "      <td>-0.280134</td>\n",
              "      <td>-0.129498</td>\n",
              "      <td>0.390029</td>\n",
              "      <td>-0.113308</td>\n",
              "      <td>0.110953</td>\n",
              "      <td>-0.984880</td>\n",
              "      <td>-0.643319</td>\n",
              "      <td>-1.408279</td>\n",
              "      <td>0.449569</td>\n",
              "      <td>-1.058835</td>\n",
              "    </tr>\n",
              "    <tr>\n",
              "      <th>1</th>\n",
              "      <td>-0.421592</td>\n",
              "      <td>-0.503358</td>\n",
              "      <td>-0.563191</td>\n",
              "      <td>-0.280134</td>\n",
              "      <td>-0.711896</td>\n",
              "      <td>0.172586</td>\n",
              "      <td>0.367450</td>\n",
              "      <td>0.521497</td>\n",
              "      <td>-0.869618</td>\n",
              "      <td>-0.967890</td>\n",
              "      <td>-0.263046</td>\n",
              "      <td>0.449569</td>\n",
              "      <td>-0.481360</td>\n",
              "    </tr>\n",
              "    <tr>\n",
              "      <th>2</th>\n",
              "      <td>-0.421594</td>\n",
              "      <td>-0.503358</td>\n",
              "      <td>-0.563191</td>\n",
              "      <td>-0.280134</td>\n",
              "      <td>-0.711896</td>\n",
              "      <td>1.251330</td>\n",
              "      <td>-0.257184</td>\n",
              "      <td>0.521497</td>\n",
              "      <td>-0.869618</td>\n",
              "      <td>-0.967890</td>\n",
              "      <td>-0.263046</td>\n",
              "      <td>0.405880</td>\n",
              "      <td>-1.190710</td>\n",
              "    </tr>\n",
              "    <tr>\n",
              "      <th>3</th>\n",
              "      <td>-0.421016</td>\n",
              "      <td>-0.503358</td>\n",
              "      <td>-1.286279</td>\n",
              "      <td>-0.280134</td>\n",
              "      <td>-0.804742</td>\n",
              "      <td>0.987292</td>\n",
              "      <td>-0.794089</td>\n",
              "      <td>1.034080</td>\n",
              "      <td>-0.754356</td>\n",
              "      <td>-1.088102</td>\n",
              "      <td>0.149237</td>\n",
              "      <td>0.425202</td>\n",
              "      <td>-1.342019</td>\n",
              "    </tr>\n",
              "    <tr>\n",
              "      <th>4</th>\n",
              "      <td>-0.416841</td>\n",
              "      <td>-0.503358</td>\n",
              "      <td>-1.286279</td>\n",
              "      <td>-0.280134</td>\n",
              "      <td>-0.804742</td>\n",
              "      <td>1.197675</td>\n",
              "      <td>-0.499317</td>\n",
              "      <td>1.034080</td>\n",
              "      <td>-0.754356</td>\n",
              "      <td>-1.088102</td>\n",
              "      <td>0.149237</td>\n",
              "      <td>0.449569</td>\n",
              "      <td>-1.010249</td>\n",
              "    </tr>\n",
              "  </tbody>\n",
              "</table>\n",
              "</div>"
            ],
            "text/plain": [
              "         0         1         2   ...        10        11        12\n",
              "0 -0.423981  0.254568 -1.267055  ... -1.408279  0.449569 -1.058835\n",
              "1 -0.421592 -0.503358 -0.563191  ... -0.263046  0.449569 -0.481360\n",
              "2 -0.421594 -0.503358 -0.563191  ... -0.263046  0.405880 -1.190710\n",
              "3 -0.421016 -0.503358 -1.286279  ...  0.149237  0.425202 -1.342019\n",
              "4 -0.416841 -0.503358 -1.286279  ...  0.149237  0.449569 -1.010249\n",
              "\n",
              "[5 rows x 13 columns]"
            ]
          },
          "metadata": {
            "tags": []
          },
          "execution_count": 56
        }
      ]
    },
    {
      "cell_type": "code",
      "metadata": {
        "id": "dz9PxDdA7jrn"
      },
      "source": [
        ""
      ],
      "execution_count": null,
      "outputs": []
    },
    {
      "cell_type": "markdown",
      "metadata": {
        "id": "xwIyL8fl8cFk"
      },
      "source": [
        "# Getting Polynomial features\r\n"
      ]
    },
    {
      "cell_type": "code",
      "metadata": {
        "id": "NNJ9A04I8guJ"
      },
      "source": [
        "from sklearn.preprocessing import PolynomialFeatures\r\n",
        "pft = PolynomialFeatures(degree = 2)\r\n",
        "data_poly = pft.fit_transform(dataset)"
      ],
      "execution_count": null,
      "outputs": []
    },
    {
      "cell_type": "code",
      "metadata": {
        "colab": {
          "base_uri": "https://localhost:8080/"
        },
        "id": "MM7NkvPR8m6n",
        "outputId": "0e2f7bf8-5eb7-4793-92f5-d3b9d1de3072"
      },
      "source": [
        "print(data_poly)"
      ],
      "execution_count": null,
      "outputs": [
        {
          "output_type": "stream",
          "text": [
            "[[ 1.         -0.42398101  0.25456774 ...  0.20211261 -0.4760196\n",
            "   1.12113075]\n",
            " [ 1.         -0.42159182 -0.50335782 ...  0.20211261 -0.21640463\n",
            "   0.23170728]\n",
            " [ 1.         -0.42159409 -0.50335782 ...  0.16473831 -0.48328494\n",
            "   1.41779   ]\n",
            " ...\n",
            " [ 1.          0.74007255 -0.50335782 ...  0.07019047  0.19942041\n",
            "   0.56657974]\n",
            " [ 1.          1.20683542 -0.50335782 ...  0.09229078  0.02118657\n",
            "   0.00486366]\n",
            " [ 1.          0.23821853 -0.50335782 ...  0.20211261 -0.11655271\n",
            "   0.06721271]]\n"
          ],
          "name": "stdout"
        }
      ]
    },
    {
      "cell_type": "code",
      "metadata": {
        "id": "5H4DhlZt8uXb"
      },
      "source": [
        "data_poly = pd.DataFrame(data_poly)  \r\n"
      ],
      "execution_count": null,
      "outputs": []
    },
    {
      "cell_type": "code",
      "metadata": {
        "colab": {
          "base_uri": "https://localhost:8080/",
          "height": 253
        },
        "id": "zQrzeavR8vzq",
        "outputId": "525d8c5b-2d23-4d9c-dd05-74ab206602a0"
      },
      "source": [
        "data_poly.head()"
      ],
      "execution_count": null,
      "outputs": [
        {
          "output_type": "execute_result",
          "data": {
            "text/html": [
              "<div>\n",
              "<style scoped>\n",
              "    .dataframe tbody tr th:only-of-type {\n",
              "        vertical-align: middle;\n",
              "    }\n",
              "\n",
              "    .dataframe tbody tr th {\n",
              "        vertical-align: top;\n",
              "    }\n",
              "\n",
              "    .dataframe thead th {\n",
              "        text-align: right;\n",
              "    }\n",
              "</style>\n",
              "<table border=\"1\" class=\"dataframe\">\n",
              "  <thead>\n",
              "    <tr style=\"text-align: right;\">\n",
              "      <th></th>\n",
              "      <th>0</th>\n",
              "      <th>1</th>\n",
              "      <th>2</th>\n",
              "      <th>3</th>\n",
              "      <th>4</th>\n",
              "      <th>5</th>\n",
              "      <th>6</th>\n",
              "      <th>7</th>\n",
              "      <th>8</th>\n",
              "      <th>9</th>\n",
              "      <th>10</th>\n",
              "      <th>11</th>\n",
              "      <th>12</th>\n",
              "      <th>13</th>\n",
              "      <th>14</th>\n",
              "      <th>15</th>\n",
              "      <th>16</th>\n",
              "      <th>17</th>\n",
              "      <th>18</th>\n",
              "      <th>19</th>\n",
              "      <th>20</th>\n",
              "      <th>21</th>\n",
              "      <th>22</th>\n",
              "      <th>23</th>\n",
              "      <th>24</th>\n",
              "      <th>25</th>\n",
              "      <th>26</th>\n",
              "      <th>27</th>\n",
              "      <th>28</th>\n",
              "      <th>29</th>\n",
              "      <th>30</th>\n",
              "      <th>31</th>\n",
              "      <th>32</th>\n",
              "      <th>33</th>\n",
              "      <th>34</th>\n",
              "      <th>35</th>\n",
              "      <th>36</th>\n",
              "      <th>37</th>\n",
              "      <th>38</th>\n",
              "      <th>39</th>\n",
              "      <th>...</th>\n",
              "      <th>65</th>\n",
              "      <th>66</th>\n",
              "      <th>67</th>\n",
              "      <th>68</th>\n",
              "      <th>69</th>\n",
              "      <th>70</th>\n",
              "      <th>71</th>\n",
              "      <th>72</th>\n",
              "      <th>73</th>\n",
              "      <th>74</th>\n",
              "      <th>75</th>\n",
              "      <th>76</th>\n",
              "      <th>77</th>\n",
              "      <th>78</th>\n",
              "      <th>79</th>\n",
              "      <th>80</th>\n",
              "      <th>81</th>\n",
              "      <th>82</th>\n",
              "      <th>83</th>\n",
              "      <th>84</th>\n",
              "      <th>85</th>\n",
              "      <th>86</th>\n",
              "      <th>87</th>\n",
              "      <th>88</th>\n",
              "      <th>89</th>\n",
              "      <th>90</th>\n",
              "      <th>91</th>\n",
              "      <th>92</th>\n",
              "      <th>93</th>\n",
              "      <th>94</th>\n",
              "      <th>95</th>\n",
              "      <th>96</th>\n",
              "      <th>97</th>\n",
              "      <th>98</th>\n",
              "      <th>99</th>\n",
              "      <th>100</th>\n",
              "      <th>101</th>\n",
              "      <th>102</th>\n",
              "      <th>103</th>\n",
              "      <th>104</th>\n",
              "    </tr>\n",
              "  </thead>\n",
              "  <tbody>\n",
              "    <tr>\n",
              "      <th>0</th>\n",
              "      <td>1.0</td>\n",
              "      <td>-0.423981</td>\n",
              "      <td>0.254568</td>\n",
              "      <td>-1.267055</td>\n",
              "      <td>-0.280134</td>\n",
              "      <td>-0.129498</td>\n",
              "      <td>0.390029</td>\n",
              "      <td>-0.113308</td>\n",
              "      <td>0.110953</td>\n",
              "      <td>-0.984880</td>\n",
              "      <td>-0.643319</td>\n",
              "      <td>-1.408279</td>\n",
              "      <td>0.449569</td>\n",
              "      <td>-1.058835</td>\n",
              "      <td>0.179760</td>\n",
              "      <td>-0.107932</td>\n",
              "      <td>0.537207</td>\n",
              "      <td>0.118772</td>\n",
              "      <td>0.054905</td>\n",
              "      <td>-0.165365</td>\n",
              "      <td>0.048040</td>\n",
              "      <td>-0.047042</td>\n",
              "      <td>0.417570</td>\n",
              "      <td>0.272755</td>\n",
              "      <td>0.597084</td>\n",
              "      <td>-0.190609</td>\n",
              "      <td>0.448926</td>\n",
              "      <td>0.064805</td>\n",
              "      <td>-0.322551</td>\n",
              "      <td>-0.071313</td>\n",
              "      <td>-0.032966</td>\n",
              "      <td>0.099289</td>\n",
              "      <td>-0.028845</td>\n",
              "      <td>0.028245</td>\n",
              "      <td>-0.250719</td>\n",
              "      <td>-0.163768</td>\n",
              "      <td>-0.358503</td>\n",
              "      <td>0.114446</td>\n",
              "      <td>-0.269545</td>\n",
              "      <td>1.605430</td>\n",
              "      <td>...</td>\n",
              "      <td>0.083309</td>\n",
              "      <td>0.182370</td>\n",
              "      <td>-0.058218</td>\n",
              "      <td>0.137117</td>\n",
              "      <td>0.152123</td>\n",
              "      <td>-0.044193</td>\n",
              "      <td>0.043275</td>\n",
              "      <td>-0.384132</td>\n",
              "      <td>-0.250913</td>\n",
              "      <td>-0.549270</td>\n",
              "      <td>0.175345</td>\n",
              "      <td>-0.412976</td>\n",
              "      <td>0.012839</td>\n",
              "      <td>-0.012572</td>\n",
              "      <td>0.111595</td>\n",
              "      <td>0.072893</td>\n",
              "      <td>0.159569</td>\n",
              "      <td>-0.050940</td>\n",
              "      <td>0.119974</td>\n",
              "      <td>0.012311</td>\n",
              "      <td>-0.109275</td>\n",
              "      <td>-0.071378</td>\n",
              "      <td>-0.156253</td>\n",
              "      <td>0.049881</td>\n",
              "      <td>-0.117481</td>\n",
              "      <td>0.969988</td>\n",
              "      <td>0.633592</td>\n",
              "      <td>1.386986</td>\n",
              "      <td>-0.442772</td>\n",
              "      <td>1.042825</td>\n",
              "      <td>0.413860</td>\n",
              "      <td>0.905973</td>\n",
              "      <td>-0.289217</td>\n",
              "      <td>0.681169</td>\n",
              "      <td>1.983251</td>\n",
              "      <td>-0.633119</td>\n",
              "      <td>1.491135</td>\n",
              "      <td>0.202113</td>\n",
              "      <td>-0.476020</td>\n",
              "      <td>1.121131</td>\n",
              "    </tr>\n",
              "    <tr>\n",
              "      <th>1</th>\n",
              "      <td>1.0</td>\n",
              "      <td>-0.421592</td>\n",
              "      <td>-0.503358</td>\n",
              "      <td>-0.563191</td>\n",
              "      <td>-0.280134</td>\n",
              "      <td>-0.711896</td>\n",
              "      <td>0.172586</td>\n",
              "      <td>0.367450</td>\n",
              "      <td>0.521497</td>\n",
              "      <td>-0.869618</td>\n",
              "      <td>-0.967890</td>\n",
              "      <td>-0.263046</td>\n",
              "      <td>0.449569</td>\n",
              "      <td>-0.481360</td>\n",
              "      <td>0.177740</td>\n",
              "      <td>0.212212</td>\n",
              "      <td>0.237437</td>\n",
              "      <td>0.118102</td>\n",
              "      <td>0.300130</td>\n",
              "      <td>-0.072761</td>\n",
              "      <td>-0.154914</td>\n",
              "      <td>-0.219859</td>\n",
              "      <td>0.366624</td>\n",
              "      <td>0.408055</td>\n",
              "      <td>0.110898</td>\n",
              "      <td>-0.189535</td>\n",
              "      <td>0.202937</td>\n",
              "      <td>0.253369</td>\n",
              "      <td>0.283486</td>\n",
              "      <td>0.141008</td>\n",
              "      <td>0.358338</td>\n",
              "      <td>-0.086872</td>\n",
              "      <td>-0.184959</td>\n",
              "      <td>-0.262500</td>\n",
              "      <td>0.437729</td>\n",
              "      <td>0.487195</td>\n",
              "      <td>0.132406</td>\n",
              "      <td>-0.226294</td>\n",
              "      <td>0.242296</td>\n",
              "      <td>0.317184</td>\n",
              "      <td>...</td>\n",
              "      <td>0.689037</td>\n",
              "      <td>0.187262</td>\n",
              "      <td>-0.320047</td>\n",
              "      <td>0.342678</td>\n",
              "      <td>0.029786</td>\n",
              "      <td>0.063417</td>\n",
              "      <td>0.090003</td>\n",
              "      <td>-0.150084</td>\n",
              "      <td>-0.167044</td>\n",
              "      <td>-0.045398</td>\n",
              "      <td>0.077589</td>\n",
              "      <td>-0.083076</td>\n",
              "      <td>0.135019</td>\n",
              "      <td>0.191624</td>\n",
              "      <td>-0.319541</td>\n",
              "      <td>-0.355651</td>\n",
              "      <td>-0.096656</td>\n",
              "      <td>0.165194</td>\n",
              "      <td>-0.176876</td>\n",
              "      <td>0.271959</td>\n",
              "      <td>-0.453503</td>\n",
              "      <td>-0.504752</td>\n",
              "      <td>-0.137178</td>\n",
              "      <td>0.234449</td>\n",
              "      <td>-0.251028</td>\n",
              "      <td>0.756235</td>\n",
              "      <td>0.841695</td>\n",
              "      <td>0.228750</td>\n",
              "      <td>-0.390954</td>\n",
              "      <td>0.418599</td>\n",
              "      <td>0.936812</td>\n",
              "      <td>0.254600</td>\n",
              "      <td>-0.435134</td>\n",
              "      <td>0.465904</td>\n",
              "      <td>0.069193</td>\n",
              "      <td>-0.118258</td>\n",
              "      <td>0.126620</td>\n",
              "      <td>0.202113</td>\n",
              "      <td>-0.216405</td>\n",
              "      <td>0.231707</td>\n",
              "    </tr>\n",
              "    <tr>\n",
              "      <th>2</th>\n",
              "      <td>1.0</td>\n",
              "      <td>-0.421594</td>\n",
              "      <td>-0.503358</td>\n",
              "      <td>-0.563191</td>\n",
              "      <td>-0.280134</td>\n",
              "      <td>-0.711896</td>\n",
              "      <td>1.251330</td>\n",
              "      <td>-0.257184</td>\n",
              "      <td>0.521497</td>\n",
              "      <td>-0.869618</td>\n",
              "      <td>-0.967890</td>\n",
              "      <td>-0.263046</td>\n",
              "      <td>0.405880</td>\n",
              "      <td>-1.190710</td>\n",
              "      <td>0.177742</td>\n",
              "      <td>0.212213</td>\n",
              "      <td>0.237438</td>\n",
              "      <td>0.118103</td>\n",
              "      <td>0.300131</td>\n",
              "      <td>-0.527553</td>\n",
              "      <td>0.108427</td>\n",
              "      <td>-0.219860</td>\n",
              "      <td>0.366626</td>\n",
              "      <td>0.408057</td>\n",
              "      <td>0.110899</td>\n",
              "      <td>-0.171116</td>\n",
              "      <td>0.501996</td>\n",
              "      <td>0.253369</td>\n",
              "      <td>0.283486</td>\n",
              "      <td>0.141008</td>\n",
              "      <td>0.358338</td>\n",
              "      <td>-0.629867</td>\n",
              "      <td>0.129456</td>\n",
              "      <td>-0.262500</td>\n",
              "      <td>0.437729</td>\n",
              "      <td>0.487195</td>\n",
              "      <td>0.132406</td>\n",
              "      <td>-0.204303</td>\n",
              "      <td>0.599353</td>\n",
              "      <td>0.317184</td>\n",
              "      <td>...</td>\n",
              "      <td>0.689037</td>\n",
              "      <td>0.187262</td>\n",
              "      <td>-0.288944</td>\n",
              "      <td>0.847662</td>\n",
              "      <td>1.565826</td>\n",
              "      <td>-0.321822</td>\n",
              "      <td>0.652565</td>\n",
              "      <td>-1.088178</td>\n",
              "      <td>-1.211150</td>\n",
              "      <td>-0.329158</td>\n",
              "      <td>0.507889</td>\n",
              "      <td>-1.489971</td>\n",
              "      <td>0.066144</td>\n",
              "      <td>-0.134121</td>\n",
              "      <td>0.223652</td>\n",
              "      <td>0.248926</td>\n",
              "      <td>0.067651</td>\n",
              "      <td>-0.104386</td>\n",
              "      <td>0.306232</td>\n",
              "      <td>0.271959</td>\n",
              "      <td>-0.453503</td>\n",
              "      <td>-0.504752</td>\n",
              "      <td>-0.137178</td>\n",
              "      <td>0.211665</td>\n",
              "      <td>-0.620952</td>\n",
              "      <td>0.756235</td>\n",
              "      <td>0.841695</td>\n",
              "      <td>0.228750</td>\n",
              "      <td>-0.352960</td>\n",
              "      <td>1.035462</td>\n",
              "      <td>0.936812</td>\n",
              "      <td>0.254600</td>\n",
              "      <td>-0.392847</td>\n",
              "      <td>1.152477</td>\n",
              "      <td>0.069193</td>\n",
              "      <td>-0.106765</td>\n",
              "      <td>0.313212</td>\n",
              "      <td>0.164738</td>\n",
              "      <td>-0.483285</td>\n",
              "      <td>1.417790</td>\n",
              "    </tr>\n",
              "    <tr>\n",
              "      <th>3</th>\n",
              "      <td>1.0</td>\n",
              "      <td>-0.421016</td>\n",
              "      <td>-0.503358</td>\n",
              "      <td>-1.286279</td>\n",
              "      <td>-0.280134</td>\n",
              "      <td>-0.804742</td>\n",
              "      <td>0.987292</td>\n",
              "      <td>-0.794089</td>\n",
              "      <td>1.034080</td>\n",
              "      <td>-0.754356</td>\n",
              "      <td>-1.088102</td>\n",
              "      <td>0.149237</td>\n",
              "      <td>0.425202</td>\n",
              "      <td>-1.342019</td>\n",
              "      <td>0.177254</td>\n",
              "      <td>0.211922</td>\n",
              "      <td>0.541544</td>\n",
              "      <td>0.117941</td>\n",
              "      <td>0.338809</td>\n",
              "      <td>-0.415665</td>\n",
              "      <td>0.334324</td>\n",
              "      <td>-0.435364</td>\n",
              "      <td>0.317596</td>\n",
              "      <td>0.458108</td>\n",
              "      <td>-0.062831</td>\n",
              "      <td>-0.179017</td>\n",
              "      <td>0.565011</td>\n",
              "      <td>0.253369</td>\n",
              "      <td>0.647458</td>\n",
              "      <td>0.141008</td>\n",
              "      <td>0.405073</td>\n",
              "      <td>-0.496961</td>\n",
              "      <td>0.399711</td>\n",
              "      <td>-0.520512</td>\n",
              "      <td>0.379711</td>\n",
              "      <td>0.547705</td>\n",
              "      <td>-0.075120</td>\n",
              "      <td>-0.214029</td>\n",
              "      <td>0.675516</td>\n",
              "      <td>1.654513</td>\n",
              "      <td>...</td>\n",
              "      <td>0.875641</td>\n",
              "      <td>-0.120098</td>\n",
              "      <td>-0.342178</td>\n",
              "      <td>1.079979</td>\n",
              "      <td>0.974745</td>\n",
              "      <td>-0.783997</td>\n",
              "      <td>1.020939</td>\n",
              "      <td>-0.744769</td>\n",
              "      <td>-1.074274</td>\n",
              "      <td>0.147341</td>\n",
              "      <td>0.419798</td>\n",
              "      <td>-1.324964</td>\n",
              "      <td>0.630577</td>\n",
              "      <td>-0.821151</td>\n",
              "      <td>0.599025</td>\n",
              "      <td>0.864049</td>\n",
              "      <td>-0.118508</td>\n",
              "      <td>-0.337648</td>\n",
              "      <td>1.065682</td>\n",
              "      <td>1.069322</td>\n",
              "      <td>-0.780064</td>\n",
              "      <td>-1.125185</td>\n",
              "      <td>0.154323</td>\n",
              "      <td>0.439693</td>\n",
              "      <td>-1.387756</td>\n",
              "      <td>0.569053</td>\n",
              "      <td>0.820816</td>\n",
              "      <td>-0.112578</td>\n",
              "      <td>-0.320753</td>\n",
              "      <td>1.012360</td>\n",
              "      <td>1.183966</td>\n",
              "      <td>-0.162386</td>\n",
              "      <td>-0.462663</td>\n",
              "      <td>1.460254</td>\n",
              "      <td>0.022272</td>\n",
              "      <td>0.063456</td>\n",
              "      <td>-0.200280</td>\n",
              "      <td>0.180797</td>\n",
              "      <td>-0.570629</td>\n",
              "      <td>1.801016</td>\n",
              "    </tr>\n",
              "    <tr>\n",
              "      <th>4</th>\n",
              "      <td>1.0</td>\n",
              "      <td>-0.416841</td>\n",
              "      <td>-0.503358</td>\n",
              "      <td>-1.286279</td>\n",
              "      <td>-0.280134</td>\n",
              "      <td>-0.804742</td>\n",
              "      <td>1.197675</td>\n",
              "      <td>-0.499317</td>\n",
              "      <td>1.034080</td>\n",
              "      <td>-0.754356</td>\n",
              "      <td>-1.088102</td>\n",
              "      <td>0.149237</td>\n",
              "      <td>0.449569</td>\n",
              "      <td>-1.010249</td>\n",
              "      <td>0.173756</td>\n",
              "      <td>0.209820</td>\n",
              "      <td>0.536173</td>\n",
              "      <td>0.116771</td>\n",
              "      <td>0.335449</td>\n",
              "      <td>-0.499240</td>\n",
              "      <td>0.208136</td>\n",
              "      <td>-0.431047</td>\n",
              "      <td>0.314446</td>\n",
              "      <td>0.453565</td>\n",
              "      <td>-0.062208</td>\n",
              "      <td>-0.187399</td>\n",
              "      <td>0.421113</td>\n",
              "      <td>0.253369</td>\n",
              "      <td>0.647458</td>\n",
              "      <td>0.141008</td>\n",
              "      <td>0.405073</td>\n",
              "      <td>-0.602859</td>\n",
              "      <td>0.251335</td>\n",
              "      <td>-0.520512</td>\n",
              "      <td>0.379711</td>\n",
              "      <td>0.547705</td>\n",
              "      <td>-0.075120</td>\n",
              "      <td>-0.226294</td>\n",
              "      <td>0.508517</td>\n",
              "      <td>1.654513</td>\n",
              "      <td>...</td>\n",
              "      <td>0.875641</td>\n",
              "      <td>-0.120098</td>\n",
              "      <td>-0.361787</td>\n",
              "      <td>0.812990</td>\n",
              "      <td>1.434425</td>\n",
              "      <td>-0.598020</td>\n",
              "      <td>1.238492</td>\n",
              "      <td>-0.903473</td>\n",
              "      <td>-1.303192</td>\n",
              "      <td>0.178738</td>\n",
              "      <td>0.538438</td>\n",
              "      <td>-1.209950</td>\n",
              "      <td>0.249318</td>\n",
              "      <td>-0.516334</td>\n",
              "      <td>0.376663</td>\n",
              "      <td>0.543308</td>\n",
              "      <td>-0.074517</td>\n",
              "      <td>-0.224478</td>\n",
              "      <td>0.504435</td>\n",
              "      <td>1.069322</td>\n",
              "      <td>-0.780064</td>\n",
              "      <td>-1.125185</td>\n",
              "      <td>0.154323</td>\n",
              "      <td>0.464891</td>\n",
              "      <td>-1.044679</td>\n",
              "      <td>0.569053</td>\n",
              "      <td>0.820816</td>\n",
              "      <td>-0.112578</td>\n",
              "      <td>-0.339135</td>\n",
              "      <td>0.762087</td>\n",
              "      <td>1.183966</td>\n",
              "      <td>-0.162386</td>\n",
              "      <td>-0.489177</td>\n",
              "      <td>1.099254</td>\n",
              "      <td>0.022272</td>\n",
              "      <td>0.067093</td>\n",
              "      <td>-0.150767</td>\n",
              "      <td>0.202113</td>\n",
              "      <td>-0.454177</td>\n",
              "      <td>1.020603</td>\n",
              "    </tr>\n",
              "  </tbody>\n",
              "</table>\n",
              "<p>5 rows × 105 columns</p>\n",
              "</div>"
            ],
            "text/plain": [
              "   0         1         2         3    ...       101       102       103       104\n",
              "0  1.0 -0.423981  0.254568 -1.267055  ...  1.491135  0.202113 -0.476020  1.121131\n",
              "1  1.0 -0.421592 -0.503358 -0.563191  ...  0.126620  0.202113 -0.216405  0.231707\n",
              "2  1.0 -0.421594 -0.503358 -0.563191  ...  0.313212  0.164738 -0.483285  1.417790\n",
              "3  1.0 -0.421016 -0.503358 -1.286279  ... -0.200280  0.180797 -0.570629  1.801016\n",
              "4  1.0 -0.416841 -0.503358 -1.286279  ... -0.150767  0.202113 -0.454177  1.020603\n",
              "\n",
              "[5 rows x 105 columns]"
            ]
          },
          "metadata": {
            "tags": []
          },
          "execution_count": 63
        }
      ]
    },
    {
      "cell_type": "code",
      "metadata": {
        "id": "cn9zjAAF8zJb"
      },
      "source": [
        ""
      ],
      "execution_count": null,
      "outputs": []
    },
    {
      "cell_type": "markdown",
      "metadata": {
        "id": "U1o8s_7l8_gS"
      },
      "source": [
        "# Selecting 13 best features"
      ]
    },
    {
      "cell_type": "code",
      "metadata": {
        "id": "lc0vTCmf9LdU"
      },
      "source": [
        "from sklearn.feature_selection import SelectKBest\r\n",
        "from sklearn.feature_selection import f_classif"
      ],
      "execution_count": null,
      "outputs": []
    },
    {
      "cell_type": "code",
      "metadata": {
        "colab": {
          "base_uri": "https://localhost:8080/"
        },
        "id": "HVNABODq9Sn0",
        "outputId": "3b8563d3-cc8f-4798-abf1-e1b5023fa142"
      },
      "source": [
        "test = SelectKBest(score_func=f_classif, k=13)\r\n",
        "fit = test.fit(data_poly,y)"
      ],
      "execution_count": null,
      "outputs": [
        {
          "output_type": "stream",
          "text": [
            "/usr/local/lib/python3.6/dist-packages/sklearn/feature_selection/_univariate_selection.py:114: UserWarning: Features [0] are constant.\n",
            "  UserWarning)\n",
            "/usr/local/lib/python3.6/dist-packages/sklearn/feature_selection/_univariate_selection.py:115: RuntimeWarning: invalid value encountered in true_divide\n",
            "  f = msb / msw\n"
          ],
          "name": "stderr"
        }
      ]
    },
    {
      "cell_type": "code",
      "metadata": {
        "id": "cWq8xsug9UND"
      },
      "source": [
        "test = test.get_support(indices=True)"
      ],
      "execution_count": null,
      "outputs": []
    },
    {
      "cell_type": "code",
      "metadata": {
        "colab": {
          "base_uri": "https://localhost:8080/"
        },
        "id": "Pyg1Z8Q39ZU_",
        "outputId": "18f415e4-7a7d-4d8e-80a9-0918a33dfa38"
      },
      "source": [
        "print(test)"
      ],
      "execution_count": null,
      "outputs": [
        {
          "output_type": "stream",
          "text": [
            "[  1  13  16  18  19  20  21  22  23  24  26  98 103]\n"
          ],
          "name": "stdout"
        }
      ]
    },
    {
      "cell_type": "code",
      "metadata": {
        "id": "oskSEZd99buq"
      },
      "source": [
        "dataframe = data_poly.columns[[1 , 13 , 16 , 18 , 19,  20,  21 , 22 , 23 , 24 , 26 , 98, 103]]"
      ],
      "execution_count": null,
      "outputs": []
    },
    {
      "cell_type": "code",
      "metadata": {
        "colab": {
          "base_uri": "https://localhost:8080/"
        },
        "id": "HDDz1SaT9fox",
        "outputId": "c1f8ad93-a18f-4999-d6b6-f226af1960f3"
      },
      "source": [
        "print(fit.scores_)"
      ],
      "execution_count": null,
      "outputs": [
        {
          "output_type": "stream",
          "text": [
            "[       nan 3.81423519 1.67977856 2.21368347 1.14425393 2.36787442\n",
            " 2.59919606 2.3226414  1.60532086 2.11084224 2.40268296 1.6943261\n",
            " 1.72751068 5.75715094 1.67282749 2.19835486 2.97908924 1.41739856\n",
            " 3.81306854 2.74015136 2.7728075  2.86267723 3.39010774 3.31541279\n",
            " 3.02514926 1.22573391 8.07865909 1.48135974 1.2724174  0.49039938\n",
            " 1.36393922 1.41319163 1.61682948 0.83854996 1.51787959 1.33645484\n",
            " 1.58591256 1.41062995 1.70631549 0.91785627 0.92913843 1.18032261\n",
            " 1.09383154 1.33524747 0.95101477 1.36478267 1.58130825 1.16478698\n",
            " 1.24425883 1.98256092 1.14425393 1.13843625 0.84675077 0.87401395\n",
            " 0.81265368 0.62955098 0.74340463 0.86682572 0.57787351 0.85664426\n",
            " 0.97291352 1.08655755 1.26479248 0.90809261 1.38890049 1.56298717\n",
            " 1.07157918 1.05648305 1.72821517 1.74904575 1.58879266 1.43560278\n",
            " 1.45778395 1.48338275 2.10623537 1.80049215 2.00962349 1.48341448\n",
            " 1.00725071 1.46743249 1.66793768 1.18840058 1.28993097 1.68467645\n",
            " 0.70711728 1.43385896 1.41371718 1.27161333 1.2990783  1.5743158\n",
            " 2.11141056 1.86027539 1.69832536 1.63720931 2.48756154 1.66548656\n",
            " 1.7974613  1.59238378 2.7185558  2.24909197 1.37654549 1.26043753\n",
            " 1.6216542  2.83013341 2.69126566]\n"
          ],
          "name": "stdout"
        }
      ]
    },
    {
      "cell_type": "code",
      "metadata": {
        "id": "zdoMxvmU9rPp"
      },
      "source": [
        "featured_data = fit.transform(data_poly)"
      ],
      "execution_count": null,
      "outputs": []
    },
    {
      "cell_type": "code",
      "metadata": {
        "colab": {
          "base_uri": "https://localhost:8080/"
        },
        "id": "EdSK-Efu9xW_",
        "outputId": "95d6d80e-f14a-4c08-c920-817463f750e8"
      },
      "source": [
        "print(featured_data)"
      ],
      "execution_count": null,
      "outputs": [
        {
          "output_type": "stream",
          "text": [
            "[[-0.42398101 -1.05883462  0.53720746 ...  0.44892577  0.68116867\n",
            "  -0.4760196 ]\n",
            " [-0.42159182 -0.48135983  0.23743662 ...  0.20293736  0.46590356\n",
            "  -0.21640463]\n",
            " [-0.42159409 -1.19070987  0.2374379  ...  0.50199625  1.15247667\n",
            "  -0.48328494]\n",
            " ...\n",
            " [ 0.74007255  0.75271491  0.79026686 ...  0.55706365  1.189737\n",
            "   0.19942041]\n",
            " [ 1.20683542  0.06973992  1.28868721 ...  0.0841646   0.11023052\n",
            "   0.02118657]\n",
            " [ 0.23821853 -0.25925414  0.25437534 ... -0.06175914 -0.40977564\n",
            "  -0.11655271]]\n"
          ],
          "name": "stdout"
        }
      ]
    },
    {
      "cell_type": "code",
      "metadata": {
        "colab": {
          "base_uri": "https://localhost:8080/"
        },
        "id": "ZNcIc2_b-FYr",
        "outputId": "05f6ed41-c558-42e8-ba40-c1ea1e88148e"
      },
      "source": [
        "featured_data.shape"
      ],
      "execution_count": null,
      "outputs": [
        {
          "output_type": "execute_result",
          "data": {
            "text/plain": [
              "(481, 13)"
            ]
          },
          "metadata": {
            "tags": []
          },
          "execution_count": 115
        }
      ]
    },
    {
      "cell_type": "code",
      "metadata": {
        "id": "6OAr0ekePpJc"
      },
      "source": [
        ""
      ],
      "execution_count": null,
      "outputs": []
    },
    {
      "cell_type": "markdown",
      "metadata": {
        "id": "B7uR_FOSPpoA"
      },
      "source": [
        "# Ridge on best 105 features"
      ]
    },
    {
      "cell_type": "code",
      "metadata": {
        "id": "86PnpwB9P3F8"
      },
      "source": [
        "from sklearn.model_selection import train_test_split\r\n",
        "X_train, X_test, y_train, y_test = train_test_split( data_poly, y, test_size=0.33, random_state=42)"
      ],
      "execution_count": null,
      "outputs": []
    },
    {
      "cell_type": "code",
      "metadata": {
        "colab": {
          "base_uri": "https://localhost:8080/"
        },
        "id": "AylpodukP3F-",
        "outputId": "03fb2b0e-9ec7-4b42-cf24-8eaf5f5cab05"
      },
      "source": [
        "from sklearn.linear_model import Ridge\r\n",
        "\r\n",
        "ridge_reg = Ridge(alpha = 100, max_iter= 1000, tol=0.1)\r\n",
        "ridge_reg.fit(X_train,y_train)"
      ],
      "execution_count": null,
      "outputs": [
        {
          "output_type": "execute_result",
          "data": {
            "text/plain": [
              "Ridge(alpha=100, copy_X=True, fit_intercept=True, max_iter=1000,\n",
              "      normalize=False, random_state=None, solver='auto', tol=0.1)"
            ]
          },
          "metadata": {
            "tags": []
          },
          "execution_count": 160
        }
      ]
    },
    {
      "cell_type": "code",
      "metadata": {
        "colab": {
          "base_uri": "https://localhost:8080/"
        },
        "id": "Em5eMeOOP3GC",
        "outputId": "5ad81109-2ec6-489f-9ca9-9c90a0cd2fc8"
      },
      "source": [
        "ridge_reg.score(X_train,y_train)"
      ],
      "execution_count": null,
      "outputs": [
        {
          "output_type": "execute_result",
          "data": {
            "text/plain": [
              "0.8834228630793052"
            ]
          },
          "metadata": {
            "tags": []
          },
          "execution_count": 161
        }
      ]
    },
    {
      "cell_type": "code",
      "metadata": {
        "id": "_jmLF-ESP3GD"
      },
      "source": [
        "predicted_y = ridge_reg.predict(X_test)"
      ],
      "execution_count": null,
      "outputs": []
    },
    {
      "cell_type": "code",
      "metadata": {
        "colab": {
          "base_uri": "https://localhost:8080/"
        },
        "id": "pLtcRNmZP3GE",
        "outputId": "44adb9c3-50b8-4ce0-9654-96dc3d7dacdb"
      },
      "source": [
        "predicted_y"
      ],
      "execution_count": null,
      "outputs": [
        {
          "output_type": "execute_result",
          "data": {
            "text/plain": [
              "array([23.35141179,  7.16984006, 14.0458877 , 26.95158074,  6.9025641 ,\n",
              "       19.09899668, 16.57643196, 10.2938494 , 21.57464845, 16.58343584,\n",
              "       19.20543214, 40.83384017, 17.01640927, 32.26374714, 17.14370971,\n",
              "       24.17167434, 34.3343174 , 15.3498511 , 17.424111  , 45.9761497 ,\n",
              "       36.92156622, 20.59719241, 24.50993177, 19.51188117, 20.47708966,\n",
              "       15.25585232, 14.60127073, 21.89040223, 26.67880598, 27.74138322,\n",
              "       25.50709518, 19.63880707, 41.03640464, 29.10061513,  8.93082665,\n",
              "       21.92061236, 18.42985033, 25.38884766, 21.56870532, 18.86692494,\n",
              "       23.79427577, 23.63731708, 25.24250487, 30.67681304, 28.88912544,\n",
              "       24.44142618, 16.43261368, 21.07899472, 13.23917503, 25.17673951,\n",
              "       15.84306756, 17.73967463, 21.5206023 , 21.13038975, 15.23164062,\n",
              "       12.28347009, 23.85237342, 24.54162289, 13.18102871, 19.40850415,\n",
              "       19.81092618, 25.02654482, 20.96744313, 19.4793506 , 15.26657652,\n",
              "       32.27845662, 19.13483913, 18.70516647, 22.39277283, 22.10031763,\n",
              "       24.03035278, 20.69786392, 22.9337438 , 13.80195814, 16.78229627,\n",
              "       28.86104926, 25.0946592 , 17.81637455, 22.72309498, 22.38994948,\n",
              "       21.02283677, 20.20755166, 17.0749313 , 10.21389821, 19.327693  ,\n",
              "       20.95738586, 23.66929508, 23.68920839, 17.35166974, 19.74885813,\n",
              "       23.9277863 , 29.71758816, 26.35852428, 15.24168144, 17.86837538,\n",
              "       21.68806578, 21.34784293, 38.08784205, 20.68916202, 24.76321508,\n",
              "       37.9570138 , 13.85396206, 14.67530505, 20.97578777, 19.70050713,\n",
              "       32.43427747, 23.96361363, 17.95873715, 18.90801768, 21.58653856,\n",
              "       16.88033573, 18.26723294, 20.62399077, 19.30696928, 24.50387665,\n",
              "       29.59725047, 23.41422427, 29.36729933, 14.23431187, 17.93291083,\n",
              "       18.85218596, 20.85230852, 16.11494466, 22.30595379, 18.9094804 ,\n",
              "       24.32413063, 19.51357753, 21.8301165 , 15.79576742, 21.38944963,\n",
              "       21.8470788 , 21.53507534, 24.96249837, 16.92054142, 48.61209316,\n",
              "       26.20393995, 17.54581688, 24.27864391, 21.9319272 , 20.61524714,\n",
              "       21.48703059, 11.36742674,  7.9858194 , 29.6756092 ,  6.23763803,\n",
              "       18.99266254, 20.90238932, 18.43237501, 12.00345085, 21.34166896,\n",
              "       14.71377659, 32.49588128, 18.15220647, 19.35516787,  7.83166245,\n",
              "       21.22404527, 21.94441565, 33.30851459, 15.66536246])"
            ]
          },
          "metadata": {
            "tags": []
          },
          "execution_count": 163
        }
      ]
    },
    {
      "cell_type": "code",
      "metadata": {
        "colab": {
          "base_uri": "https://localhost:8080/"
        },
        "id": "x05CS_H4P3GF",
        "outputId": "6f464b8a-7c0f-48a5-8cd2-b18776b9d087"
      },
      "source": [
        "ridge_reg.score(X_test,y_test)"
      ],
      "execution_count": null,
      "outputs": [
        {
          "output_type": "execute_result",
          "data": {
            "text/plain": [
              "0.8644937456096854"
            ]
          },
          "metadata": {
            "tags": []
          },
          "execution_count": 164
        }
      ]
    },
    {
      "cell_type": "code",
      "metadata": {
        "colab": {
          "base_uri": "https://localhost:8080/"
        },
        "id": "GMIZYRTXP3GF",
        "outputId": "24144dac-e373-4a9f-8981-d86b10277d4b"
      },
      "source": [
        "from sklearn.metrics import mean_squared_error\r\n",
        "mean_squared_error(y_test ,predicted_y, squared=False)"
      ],
      "execution_count": null,
      "outputs": [
        {
          "output_type": "execute_result",
          "data": {
            "text/plain": [
              "2.9722154791319686"
            ]
          },
          "metadata": {
            "tags": []
          },
          "execution_count": 165
        }
      ]
    },
    {
      "cell_type": "markdown",
      "metadata": {
        "id": "6xYXe_3e8et4"
      },
      "source": [
        "# **Bulding and fitting using the RidgeCV model**"
      ]
    },
    {
      "cell_type": "code",
      "metadata": {
        "id": "eFa-8_Ht1cbD"
      },
      "source": [
        "# define model evaluation method\n",
        "\n",
        "from sklearn.linear_model import RidgeCV\n",
        "from sklearn.model_selection import RepeatedKFold\n",
        "\n",
        "cv = RepeatedKFold(n_splits=10, n_repeats=3, random_state=1)"
      ],
      "execution_count": null,
      "outputs": []
    },
    {
      "cell_type": "code",
      "metadata": {
        "id": "8o25t2LX1lXp"
      },
      "source": [
        "# define model\n",
        "model = RidgeCV(alphas = np.arange(0, 1, 0.001), cv=cv, scoring='neg_mean_absolute_error')"
      ],
      "execution_count": null,
      "outputs": []
    },
    {
      "cell_type": "code",
      "metadata": {
        "id": "BjjvsIS31yra"
      },
      "source": [
        "# fit model\n",
        "results = model.fit(data_poly, y)"
      ],
      "execution_count": null,
      "outputs": []
    },
    {
      "cell_type": "code",
      "metadata": {
        "colab": {
          "base_uri": "https://localhost:8080/"
        },
        "id": "45DJ0yNy30Vj",
        "outputId": "53b24e69-27f5-4501-87e7-3a2f4c52d0a0"
      },
      "source": [
        "# summarize chosen configuration\n",
        "print('alpha: %f' % model.alpha_)"
      ],
      "execution_count": null,
      "outputs": [
        {
          "output_type": "stream",
          "text": [
            "alpha: 0.999000\n"
          ],
          "name": "stdout"
        }
      ]
    },
    {
      "cell_type": "code",
      "metadata": {
        "colab": {
          "base_uri": "https://localhost:8080/"
        },
        "id": "0JwAR2c_6y7M",
        "outputId": "281f7365-3792-4a89-95ac-779ee42e3f70"
      },
      "source": [
        "print(results.score(data_poly,y))"
      ],
      "execution_count": null,
      "outputs": [
        {
          "output_type": "stream",
          "text": [
            "0.9296349577901027\n"
          ],
          "name": "stdout"
        }
      ]
    },
    {
      "cell_type": "code",
      "metadata": {
        "id": "HWKvMvCLDrJH"
      },
      "source": [
        "pred=model.predict(data_poly)"
      ],
      "execution_count": null,
      "outputs": []
    },
    {
      "cell_type": "code",
      "metadata": {
        "colab": {
          "base_uri": "https://localhost:8080/"
        },
        "id": "i6PivfmcDvoW",
        "outputId": "7d02abd1-deeb-447e-b3c2-a10a516d0c0f"
      },
      "source": [
        "print(pred)"
      ],
      "execution_count": null,
      "outputs": [
        {
          "output_type": "stream",
          "text": [
            "[25.29331505 22.94013008 32.67629332 31.98711304 32.0549476  26.07695077\n",
            " 20.42278039 18.05003774 16.35419971 19.42082168 19.88447435 19.64029506\n",
            " 21.61777648 19.19820846 17.78552378 19.0602118  21.18679368 16.60435656\n",
            " 15.40538757 17.9259918  14.02632317 16.23419873 15.08550279 13.58149179\n",
            " 14.84430625 15.03339045 15.3440229  15.59984512 16.98152793 18.73290144\n",
            " 14.44661909 15.83948616 16.72031241 14.73364016 15.07175718 22.39787634\n",
            " 21.4780079  22.14816141 23.49653844 29.40002485 35.5145262  31.31345163\n",
            " 23.63782809 24.98699367 22.16895509 19.20686921 20.99787007 19.67006017\n",
            " 19.60057482 18.63940296 20.71129536 21.38657819 27.57178025 21.69914933\n",
            " 20.08306063 32.53437051 23.39092997 30.38017513 20.46296739 18.75159777\n",
            " 16.82698658 16.94663873 22.51617133 24.35631113 31.26236231 26.08670126\n",
            " 18.34724226 19.45156777 16.91009494 19.01990656 24.94708708 19.57276584\n",
            " 21.50971312 22.71271992 26.11346977 22.8343832  20.20349701 21.76717369\n",
            " 20.44662799 20.38058815 28.62034304 24.63438263 24.6810517  22.60941806\n",
            " 25.38828511 27.81345238 23.15680406 24.67534657 28.52082782 31.23546076\n",
            " 25.67274779 25.16769758 25.63176803 25.14570292 21.45288644 28.06827863\n",
            " 23.27030004 38.66294744 42.25144941 34.10099263 24.01512241 26.19928932\n",
            " 18.01597308 19.76472223 20.84674361 18.45526271 17.75451159 20.93943957\n",
            " 20.39957314 18.61135417 23.45650906 23.9003562  16.76612052 16.00874151\n",
            " 22.37055787 17.42977114 21.30430955 20.79921674 18.55083604 19.43667618\n",
            " 21.56951845 21.7406008  19.70138371 17.17563612 18.77865612 21.07706683\n",
            " 15.22400545 16.35990566 18.54727995 15.98042707 20.79127321 20.90950823\n",
            " 21.82660696 17.96778073 14.73056962 17.4091751  17.15473537 19.25356658\n",
            " 14.1655659  16.13209192 13.98883606 12.37626643 13.52396842 14.22117574\n",
            " 13.49572647 18.54143807 15.69368274 14.62321687 16.03126671 16.57603738\n",
            " 21.25322272 16.30186127 14.94131703 17.46400857 15.457687   15.14672384\n",
            " 12.53368786 37.4526206  27.14881851 27.57541568 32.86598715 46.99315361\n",
            " 47.48671208 48.72603715 21.98989521 22.87680012 48.75459862 19.49584672\n",
            " 25.03020649 26.03054548 19.870623   21.25847287 19.72996989 26.30336928\n",
            " 23.42266634 31.1091435  23.86838552 26.28739355 30.49963162 36.29085549\n",
            " 38.78309797 28.5805906  35.7057414  30.73294907 22.57841574 26.25823359\n",
            " 43.98301005 31.54591728 29.71931611 34.23566525 30.37933791 27.8770545\n",
            " 33.80270429 32.1065872  28.4411812  48.00717285 36.13190522 30.52274785\n",
            " 33.74865153 33.05196475 34.4020574  22.2135686  43.01601022 48.14060821\n",
            " 51.47819592 21.85637006 23.41089031 17.55282599 22.98821395 19.73893789\n",
            " 20.33946555 19.82899415 22.64270985 25.39573329 25.96995655 23.29519901\n",
            " 23.37653363 27.77101705 19.86466892 25.90948363 27.84537209 20.0579637\n",
            " 28.21449157 28.16599226 44.08715996 46.70227828 42.0382326  32.90108947\n",
            " 43.10290579 30.71504692 21.8728582  34.90940917 45.07425992 43.31413778\n",
            " 28.68306934 22.92450486 27.59957553 34.41588779 25.54372866 25.66103928\n",
            " 25.90977066 18.8707827  21.40023495 24.31316243 16.14432852 15.81634543\n",
            " 20.12918661 19.62099716 21.5753004  26.27402547 24.64057184 23.91570709\n",
            " 29.7832469  44.33281696 20.83940327 19.55360813 39.06754967 52.94226497\n",
            " 35.06341362 31.34590349 35.08817117 38.39351472 47.52702756 32.93092283\n",
            " 34.85660361 22.41451644 30.43329605 51.09217615 45.96512871 23.23748805\n",
            " 20.21959806 25.68959011 26.23527005 33.17094955 33.55381499 32.79644831\n",
            " 32.48310701 32.98478556 27.84501878 35.75882546 45.49141616 35.8075039\n",
            " 43.93537092 50.22484104 32.94709539 23.15434352 20.4449963  21.65106863\n",
            " 22.05168577 24.37485005 31.35441508 33.91835057 28.67455436 22.71102811\n",
            " 20.60360237 30.29190601 27.6373008  18.70719488 23.73208038 32.53367196\n",
            " 26.96034015 25.33851603 25.69267149 32.76135404 35.43274291 30.12852878\n",
            " 37.00055793 32.33028063 26.34743873 19.79295886 14.3311688  24.39428906\n",
            " 18.69130539 21.91988827 22.33069341 17.17040455 16.52061889 17.33172984\n",
            " 22.52547463 20.78075096 24.75442298 24.42324802 21.88698101 18.34106268\n",
            " 25.41322066 26.25575227 24.50736521 21.63055373 18.92843322 23.01025343\n",
            " 19.09493455 17.62871593 19.73845358 23.82400479 23.75203371 21.99843242\n",
            " 20.71972873 20.24347305 22.61282601 21.77512104 21.16090112 31.30894282\n",
            " 17.71588714 24.72462958 29.82129831 19.31659314 18.38166507 25.01370658\n",
            " 26.55670864 26.58328844 22.69310652 24.63102019 21.39291776 32.55804392\n",
            " 18.69123361 20.2003733  21.60095127 17.14714082 23.27714041 19.11299667\n",
            " 24.6300295  17.82061886 23.45431096 20.05677556 25.65390475 30.80823704\n",
            " 23.24667868 23.79092083 41.95677486 48.22157408 50.63739199 31.58223859\n",
            " 43.93667555 10.31592153 13.05387262 21.22305955 12.0686503  13.30407351\n",
            " 10.08479702 12.09643213 12.43806747 12.36572494 12.09122258 11.85641417\n",
            " 11.72666288  7.69725929  8.26939966  8.13596471  9.58277815 14.73614494\n",
            " 17.52712016 16.15041043 11.26100444 19.1854751  16.38964035 16.6268745\n",
            " 15.22562687 15.46241546  4.6065722  10.10139958  6.1638041  12.25413447\n",
            " 13.40775232 10.18560372  7.04053918  1.83897959 15.33909303 25.41263686\n",
            " 14.90670259 18.98380169 16.29987163 16.69090051 13.64122597 15.48839278\n",
            " 11.24204941  8.45575278  9.08452291  9.72822621  7.11145089  9.48455617\n",
            " 17.52719863 18.53023715 21.97448631 11.24221314 12.21422272 10.37121574\n",
            " 11.57694568  9.77720317 12.35287248 11.21470879 17.84725627 16.86086459\n",
            " 22.08375787 16.41792261 15.78242474  9.28823333 11.97368812  7.77843135\n",
            "  6.0859475  10.49508864  7.01062126 11.03574647 15.51965326 11.4084119\n",
            "  9.80623191  8.91939657 14.81511427 13.92433381 13.41009891 13.83476081\n",
            " 14.19983571 14.8907288  15.98419103 14.08625142 12.61139226 13.85402253\n",
            " 12.69712008 11.33984068 15.98735105 17.70480927 17.00292388 19.06567999\n",
            " 18.50475104 22.87659288 20.6882941  19.71140097 14.73406691 16.22972789\n",
            " 15.3202938  18.60349562 19.9085782  24.99959853 22.78122427 26.73236548\n",
            " 19.42354906 13.89453644 17.60984232 12.66234618 17.76523141 22.74589725\n",
            " 24.96170364]\n"
          ],
          "name": "stdout"
        }
      ]
    },
    {
      "cell_type": "code",
      "metadata": {
        "colab": {
          "base_uri": "https://localhost:8080/"
        },
        "id": "Ez1JQDQBDzkb",
        "outputId": "f098f014-65be-45e7-ef3c-8835ea54626d"
      },
      "source": [
        "pred.size"
      ],
      "execution_count": null,
      "outputs": [
        {
          "output_type": "execute_result",
          "data": {
            "text/plain": [
              "481"
            ]
          },
          "metadata": {
            "tags": []
          },
          "execution_count": 79
        }
      ]
    },
    {
      "cell_type": "markdown",
      "metadata": {
        "id": "SdULgTEFCV-w"
      },
      "source": [
        "**Calculating the Mean Squared Error**"
      ]
    },
    {
      "cell_type": "code",
      "metadata": {
        "id": "YN71EdE7BnlF"
      },
      "source": [
        "from sklearn.metrics import mean_squared_error"
      ],
      "execution_count": null,
      "outputs": []
    },
    {
      "cell_type": "code",
      "metadata": {
        "colab": {
          "base_uri": "https://localhost:8080/"
        },
        "id": "A9ot9rkbBpgx",
        "outputId": "69bf2766-05c4-44ec-d48b-32cb6f3a58ce"
      },
      "source": [
        "mean_squared_error(y_true=y, y_pred=model.predict(data_poly))"
      ],
      "execution_count": null,
      "outputs": [
        {
          "output_type": "execute_result",
          "data": {
            "text/plain": [
              "6.1257199916868945"
            ]
          },
          "metadata": {
            "tags": []
          },
          "execution_count": 81
        }
      ]
    },
    {
      "cell_type": "markdown",
      "metadata": {
        "id": "eAUt18hzCjTJ"
      },
      "source": [
        "# **Bulding and fitting the Ridge Regression model**"
      ]
    },
    {
      "cell_type": "code",
      "metadata": {
        "id": "WGisoBqcoO6G"
      },
      "source": [
        "# dividing the data into training set and test set\n",
        "X_train, X_test, y_train, y_test = train_test_split(data_poly, y, test_size = 0.40, random_state = 42)"
      ],
      "execution_count": null,
      "outputs": []
    },
    {
      "cell_type": "code",
      "metadata": {
        "id": "PAwaBrBlppAW"
      },
      "source": [
        "# Declare a list to maintain the different cross-validation scores \n",
        "# cross_val_scores_ridge = [] "
      ],
      "execution_count": null,
      "outputs": []
    },
    {
      "cell_type": "code",
      "metadata": {
        "id": "nV2-XEFeroYG"
      },
      "source": [
        "# Declare a list to maintain the different values of alpha \n",
        "# alpha = [] "
      ],
      "execution_count": null,
      "outputs": []
    },
    {
      "cell_type": "code",
      "metadata": {
        "id": "TCIyxySKrw2Z"
      },
      "source": [
        "# loop to compute the different values of cross validation scores\n",
        "#for index in range (1, 15):\n",
        "#  ridgeModel = Ridge(alpha = index * 0.25)\n",
        "#  ridgeModel.fit(X_train, y_train)\n",
        "#  scores = cross_val_score(ridgeModel, X, y, cv = 10)\n",
        "#  avg_cross_validation_score = mean(scores)*100\n",
        "#  cross_val_scores_ridge.append(avg_cross_validation_score)\n",
        "# alpha.append(index * 0.25)"
      ],
      "execution_count": null,
      "outputs": []
    },
    {
      "cell_type": "code",
      "metadata": {
        "id": "CtXh2l79tEbn"
      },
      "source": [
        "# Loop to print the different values of cross-validation scores \n",
        "#for i in range (0, len(alpha)):\n",
        "#  print(str(alpha[i])+ ' : '+ str(cross_val_scores_ridge[i]))"
      ],
      "execution_count": null,
      "outputs": []
    },
    {
      "cell_type": "markdown",
      "metadata": {
        "id": "2K7Iflo6uL0y"
      },
      "source": [
        "**From the above output, we can conclude that the best value of alpha for the data is 0.0512.**\n"
      ]
    },
    {
      "cell_type": "code",
      "metadata": {
        "colab": {
          "base_uri": "https://localhost:8080/"
        },
        "id": "WFH-xO-lt1_2",
        "outputId": "5affa0f6-dea8-4d87-fe22-327db3b334f0"
      },
      "source": [
        "# Building and fitting the Ridge Regression model \n",
        "ridgeModelChosen = Ridge(alpha = 50) \n",
        "ridgeModelChosen.fit(X_train, y_train) "
      ],
      "execution_count": null,
      "outputs": [
        {
          "output_type": "execute_result",
          "data": {
            "text/plain": [
              "Ridge(alpha=50, copy_X=True, fit_intercept=True, max_iter=None, normalize=False,\n",
              "      random_state=None, solver='auto', tol=0.001)"
            ]
          },
          "metadata": {
            "tags": []
          },
          "execution_count": 108
        }
      ]
    },
    {
      "cell_type": "code",
      "metadata": {
        "id": "A1Rq6K1U2XLD"
      },
      "source": [
        "predictionTestSet = ridgeModelChosen.predict(X_test)"
      ],
      "execution_count": null,
      "outputs": []
    },
    {
      "cell_type": "code",
      "metadata": {
        "colab": {
          "base_uri": "https://localhost:8080/"
        },
        "id": "mZ2L-RAg2c46",
        "outputId": "a24a52e0-e7a8-4d0f-ca94-070a5d94418f"
      },
      "source": [
        "print(predictionTestSet)"
      ],
      "execution_count": null,
      "outputs": [
        {
          "output_type": "stream",
          "text": [
            "[22.93152203  7.03524249 13.24604025 27.24622412  6.28690608 18.39371755\n",
            " 16.83506241  9.85664726 21.43747976 16.59895225 18.14955109 41.87599469\n",
            " 16.07493418 32.39190041 16.21201256 24.49098508 33.53369876 14.74942862\n",
            " 16.51539915 45.47995399 37.60550368 20.96110714 24.40688396 19.02967551\n",
            " 20.48684834 14.86880122 14.12084794 21.71158948 26.77664175 27.6271463\n",
            " 25.54415456 18.59395426 41.82203819 29.52488631  8.45946118 21.73381279\n",
            " 18.88675016 25.46037412 22.1738339  17.3303223  23.74250988 23.81170966\n",
            " 25.46059582 30.48662578 28.67173388 24.61033574 16.50876981 20.92593479\n",
            " 13.78979744 25.23887987 15.64404369 17.59493913 21.32727258 21.97564269\n",
            " 14.87142912 11.0338509  23.97166895 25.11581145 13.3187231  18.77737713\n",
            " 19.93104303 25.67409801 20.75049609 19.51728964 15.31106348 32.22152102\n",
            " 18.51977017 17.86274778 21.90917891 21.41396111 24.21636791 20.2291567\n",
            " 22.11414761 14.92483602 16.82314181 29.272243   25.15286323 17.98993614\n",
            " 22.35163737 22.44221347 21.49136458 19.66444737 17.3859044   9.256734\n",
            " 18.74762147 20.63028304 23.88093736 22.70962712 17.59034925 18.53419955\n",
            " 24.1460987  29.59282316 26.491472   14.93024114 16.90672738 21.33765741\n",
            " 21.57047279 39.1428499  20.7867099  24.50998038 37.99466077 13.75977145\n",
            " 14.04292403 19.99740308 18.27338961 32.97710355 23.98483357 17.25256992\n",
            " 18.22066726 21.20879472 16.46728214 16.41768397 20.72389832 18.61482876\n",
            " 25.76744785 28.13280176 23.21069927 29.42141415 13.95165746 17.11706836\n",
            " 18.23440585 19.66386416 16.07315882 22.18259457 18.28052081 24.53923451\n",
            " 19.32330433 21.41771644 15.55276389 21.27248146 21.79976248 21.12469732\n",
            " 25.40610506 15.93502967 48.20038668 26.47190831 17.76324768 24.56358946\n",
            " 21.76317107 20.01389974 20.67899568 11.17183938  7.60108207 30.48929356\n",
            "  6.80094977 18.23491526 20.6601424  18.52140412 11.77333452 21.07110194\n",
            " 14.64346596 33.26751482 17.32170492 18.17673995  8.22024008 21.28062654\n",
            " 21.57105181 34.71185813 15.62206755 19.12201363 23.11766296 30.68431869\n",
            " 10.30915457 13.75108702 22.04729947 26.37528743 27.9525403  32.17397996\n",
            " 30.78255476 11.03624253 12.64340095 26.03409029 20.02568746 32.00879213\n",
            " 24.5465687  11.04810622 45.45015938 31.16963315 18.97396857 28.90817266\n",
            " 17.32787548 16.96539043 18.04529073 15.07458755 24.01953728 22.06198008\n",
            " 18.76346065 22.66860357 18.38798509 20.63788912 23.75345304 23.78799138\n",
            " 12.56327857]\n"
          ],
          "name": "stdout"
        }
      ]
    },
    {
      "cell_type": "code",
      "metadata": {
        "colab": {
          "base_uri": "https://localhost:8080/"
        },
        "id": "Hm5v-HOv2ijd",
        "outputId": "3914ebbe-2a8b-4c28-ecac-9031441172fa"
      },
      "source": [
        "predictionTestSet.size"
      ],
      "execution_count": null,
      "outputs": [
        {
          "output_type": "execute_result",
          "data": {
            "text/plain": [
              "193"
            ]
          },
          "metadata": {
            "tags": []
          },
          "execution_count": 111
        }
      ]
    },
    {
      "cell_type": "code",
      "metadata": {
        "id": "R5bAkmViocrR"
      },
      "source": [
        "# print(ridgeModelChosen.coef_)"
      ],
      "execution_count": null,
      "outputs": []
    },
    {
      "cell_type": "code",
      "metadata": {
        "colab": {
          "base_uri": "https://localhost:8080/"
        },
        "id": "nT3AEm-ZuaRp",
        "outputId": "aefae2d0-81cd-4757-b6be-f61bffc36b08"
      },
      "source": [
        "# Evaluating the Ridge Regression model \n",
        "print(ridgeModelChosen.score(X_test, y_test)) "
      ],
      "execution_count": null,
      "outputs": [
        {
          "output_type": "stream",
          "text": [
            "0.8793793286691289\n"
          ],
          "name": "stdout"
        }
      ]
    },
    {
      "cell_type": "code",
      "metadata": {
        "id": "LvdFL393udxC"
      },
      "source": [
        "from sklearn.metrics import mean_squared_error"
      ],
      "execution_count": null,
      "outputs": []
    },
    {
      "cell_type": "code",
      "metadata": {
        "colab": {
          "base_uri": "https://localhost:8080/"
        },
        "id": "Tg4AxopV26BW",
        "outputId": "bf7ae015-0a83-4331-d125-14a02ffa25cc"
      },
      "source": [
        "mean_squared_error(y_test, predictionTestSet)"
      ],
      "execution_count": null,
      "outputs": [
        {
          "output_type": "execute_result",
          "data": {
            "text/plain": [
              "11.668795536149672"
            ]
          },
          "metadata": {
            "tags": []
          },
          "execution_count": 91
        }
      ]
    }
  ]
}